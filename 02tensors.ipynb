{
  "nbformat": 4,
  "nbformat_minor": 0,
  "metadata": {
    "colab": {
      "provenance": [],
      "gpuType": "T4",
      "authorship_tag": "ABX9TyN4sR1hWG1zM8C3k13xLHJx",
      "include_colab_link": true
    },
    "kernelspec": {
      "name": "python3",
      "display_name": "Python 3"
    },
    "language_info": {
      "name": "python"
    },
    "accelerator": "GPU"
  },
  "cells": [
    {
      "cell_type": "markdown",
      "metadata": {
        "id": "view-in-github",
        "colab_type": "text"
      },
      "source": [
        "<a href=\"https://colab.research.google.com/github/hasanfaesal/pytorch-tutorials/blob/main/02tensors.ipynb\" target=\"_parent\"><img src=\"https://colab.research.google.com/assets/colab-badge.svg\" alt=\"Open In Colab\"/></a>"
      ]
    },
    {
      "cell_type": "markdown",
      "source": [
        "December 10th 2024, Tuesday\n",
        "PyTorch Tutorial 02 - Tensors\n",
        "\n",
        "20:24"
      ],
      "metadata": {
        "id": "icwjAvCgK7Sh"
      }
    },
    {
      "cell_type": "markdown",
      "source": [
        "Tensors are specialized multi-dimensional arrays used for mathematical & computational efficiency.\n",
        "examples include:\n",
        "-> scalars\n",
        "-> vectors\n",
        "-> matrices\n",
        "-> n-dimensional arrays"
      ],
      "metadata": {
        "id": "ZVAA0cDwMwL_"
      }
    },
    {
      "cell_type": "markdown",
      "source": [
        "Q. Why are Tensors Useful?\n",
        "1. mathematical operations\n",
        "2. representation of real-world data (images,audio,videos,text)\n",
        "3. efficient computation\n",
        "\n",
        "Q. Where are Tensors Used in Deep Learning?\n",
        "1. Data Storage\n",
        "2. Weights and Biases\n",
        "3. Matrix Operations\n",
        "4. Training Process (forwardpass and backwardpass)\n"
      ],
      "metadata": {
        "id": "nHgA8K5JMx6Q"
      }
    },
    {
      "cell_type": "code",
      "source": [
        "import torch\n",
        "print(torch.__version__)"
      ],
      "metadata": {
        "colab": {
          "base_uri": "https://localhost:8080/"
        },
        "id": "hWk_kD-jMn36",
        "outputId": "7a38d9a4-3beb-4773-d0b5-23d28998696d"
      },
      "execution_count": 1,
      "outputs": [
        {
          "output_type": "stream",
          "name": "stdout",
          "text": [
            "2.5.1+cu121\n"
          ]
        }
      ]
    },
    {
      "cell_type": "code",
      "source": [
        "if torch.cuda.is_available():\n",
        "  print(\"GPU is available\")\n",
        "  print(f\"Using GPU: {torch.cuda.get_device_name(0)}\")\n",
        "else:\n",
        "  print(\"GPU is not available, Using CPU\")"
      ],
      "metadata": {
        "colab": {
          "base_uri": "https://localhost:8080/"
        },
        "id": "yaAO3gBzOAA1",
        "outputId": "d45fc17f-05c2-4472-8ff9-feb0a013f35c"
      },
      "execution_count": 2,
      "outputs": [
        {
          "output_type": "stream",
          "name": "stdout",
          "text": [
            "GPU is available\n",
            "Using GPU: Tesla T4\n"
          ]
        }
      ]
    },
    {
      "cell_type": "markdown",
      "source": [
        "## Creating a Tensor"
      ],
      "metadata": {
        "id": "N87J4KXiOu0e"
      }
    },
    {
      "cell_type": "code",
      "source": [
        "a = torch.empty(2,3)"
      ],
      "metadata": {
        "id": "S0ZpWUUrOWJx"
      },
      "execution_count": 5,
      "outputs": []
    },
    {
      "cell_type": "code",
      "source": [
        "type(a)"
      ],
      "metadata": {
        "colab": {
          "base_uri": "https://localhost:8080/"
        },
        "id": "KDwg2nyIO72l",
        "outputId": "8e65dd13-d77b-446e-d923-03b38791ffc4"
      },
      "execution_count": 6,
      "outputs": [
        {
          "output_type": "execute_result",
          "data": {
            "text/plain": [
              "torch.Tensor"
            ]
          },
          "metadata": {},
          "execution_count": 6
        }
      ]
    },
    {
      "cell_type": "code",
      "source": [
        "torch.zeros(2,3)"
      ],
      "metadata": {
        "colab": {
          "base_uri": "https://localhost:8080/"
        },
        "id": "jtupJqkuPJ2d",
        "outputId": "e07fd018-4700-41d6-afd6-2e643ac1a340"
      },
      "execution_count": 7,
      "outputs": [
        {
          "output_type": "execute_result",
          "data": {
            "text/plain": [
              "tensor([[0., 0., 0.],\n",
              "        [0., 0., 0.]])"
            ]
          },
          "metadata": {},
          "execution_count": 7
        }
      ]
    },
    {
      "cell_type": "code",
      "source": [
        "torch.ones(2,3)"
      ],
      "metadata": {
        "colab": {
          "base_uri": "https://localhost:8080/"
        },
        "id": "b2GKzF3aPOP8",
        "outputId": "cc616d64-f1a5-4f2a-b8ab-85aad1cbdcd6"
      },
      "execution_count": 8,
      "outputs": [
        {
          "output_type": "execute_result",
          "data": {
            "text/plain": [
              "tensor([[1., 1., 1.],\n",
              "        [1., 1., 1.]])"
            ]
          },
          "metadata": {},
          "execution_count": 8
        }
      ]
    },
    {
      "cell_type": "code",
      "source": [
        "torch.rand(2,3)"
      ],
      "metadata": {
        "colab": {
          "base_uri": "https://localhost:8080/"
        },
        "id": "7i6cE5jMPUd0",
        "outputId": "26ae12c0-51b2-4c7e-a363-418093df5a75"
      },
      "execution_count": 9,
      "outputs": [
        {
          "output_type": "execute_result",
          "data": {
            "text/plain": [
              "tensor([[0.8168, 0.1845, 0.2030],\n",
              "        [0.0496, 0.2140, 0.1142]])"
            ]
          },
          "metadata": {},
          "execution_count": 9
        }
      ]
    },
    {
      "cell_type": "code",
      "source": [
        "torch.manual_seed(42)\n",
        "torch.rand(2,3)"
      ],
      "metadata": {
        "colab": {
          "base_uri": "https://localhost:8080/"
        },
        "id": "s5M011hIPX0R",
        "outputId": "c46cca48-f701-43e2-81fb-fd5b6cbbb51c"
      },
      "execution_count": 10,
      "outputs": [
        {
          "output_type": "execute_result",
          "data": {
            "text/plain": [
              "tensor([[0.8823, 0.9150, 0.3829],\n",
              "        [0.9593, 0.3904, 0.6009]])"
            ]
          },
          "metadata": {},
          "execution_count": 10
        }
      ]
    },
    {
      "cell_type": "code",
      "source": [
        "torch.manual_seed(42)\n",
        "torch.rand(2,3)"
      ],
      "metadata": {
        "colab": {
          "base_uri": "https://localhost:8080/"
        },
        "id": "U6u4SNmMPtct",
        "outputId": "29c9a928-9fa4-41a0-cc31-68fa8c68ca0d"
      },
      "execution_count": 11,
      "outputs": [
        {
          "output_type": "execute_result",
          "data": {
            "text/plain": [
              "tensor([[0.8823, 0.9150, 0.3829],\n",
              "        [0.9593, 0.3904, 0.6009]])"
            ]
          },
          "metadata": {},
          "execution_count": 11
        }
      ]
    },
    {
      "cell_type": "code",
      "source": [
        "torch.tensor([[1,2,3],[4,5,6]])"
      ],
      "metadata": {
        "colab": {
          "base_uri": "https://localhost:8080/"
        },
        "id": "iX8FieIKPzbs",
        "outputId": "ff9f8ad1-e08f-4d3e-c331-0fa9399bbace"
      },
      "execution_count": 12,
      "outputs": [
        {
          "output_type": "execute_result",
          "data": {
            "text/plain": [
              "tensor([[1, 2, 3],\n",
              "        [4, 5, 6]])"
            ]
          },
          "metadata": {},
          "execution_count": 12
        }
      ]
    },
    {
      "cell_type": "code",
      "source": [],
      "metadata": {
        "id": "06QGpa6_P5n5"
      },
      "execution_count": null,
      "outputs": []
    }
  ]
}